{
 "cells": [
  {
   "cell_type": "markdown",
   "metadata": {},
   "source": [
    "### Import các thư viện"
   ]
  },
  {
   "cell_type": "code",
   "execution_count": 41,
   "metadata": {},
   "outputs": [],
   "source": [
    "import pandas as pd\n",
    "from sklearn.model_selection import train_test_split, cross_val_score\n",
    "from sklearn.metrics import accuracy_score, classification_report, confusion_matrix, ConfusionMatrixDisplay\n",
    "from sklearn.preprocessing import MinMaxScaler,LabelEncoder\n",
    "import matplotlib.pyplot as plt\n",
    "import get_data_regulary as gdr\n",
    "import numpy as np\n",
    "from sklearn.ensemble import RandomForestClassifier, StackingClassifier\n",
    "from sklearn.linear_model import LogisticRegression\n",
    "from xgboost import XGBClassifier\n",
    "from sklearn.ensemble import RandomForestClassifier, StackingClassifier\n",
    "from sklearn.linear_model import LogisticRegression\n",
    "from imblearn.over_sampling import SMOTE\n",
    "import joblib\n",
    "\n"
   ]
  },
  {
   "cell_type": "code",
   "execution_count": 42,
   "metadata": {},
   "outputs": [],
   "source": [
    "matches_df = pd.read_csv(\"data_to_4-11-2024.csv\")\n",
    "# Từ điển chuẩn hóa tên đội\n",
    "team_corrections = {\n",
    "          'Manchester United': ['Man United', 'Manchester United'],\n",
    "          'Manchester City': ['Man City', 'Manchester City'],\n",
    "          'Newcastle United': ['Newcastle', 'Newcastle United'],\n",
    "          'Wolverhampton Wanderers': ['Wolverhampton', 'Wolverhampton Wanderers'],\n",
    "          'Brighton': ['Brighton', 'Brighton Hove'],\n",
    "          'Sheffield United': ['Sheffield United', 'Sheffield Utd'],\n",
    "          'Nottingham Forest': ['Nottingham', 'Nottingham Forest'],\n",
    "          'Leicester': ['Leicester', 'Leicester City']\n",
    "          }\n",
    "\n",
    "# Hàm chuẩn hóa tên đội bóng\n",
    "def normalize_team_name(team_name):\n",
    "     for standard_name, variations in team_corrections.items():\n",
    "          if team_name in variations:\n",
    "               return standard_name\n",
    "     return team_name\n",
    "     \n",
    "matches_df['Đội Chủ Nhà'] = matches_df['Đội Chủ Nhà'].apply(normalize_team_name)\n",
    "matches_df['Đội Khách'] = matches_df['Đội Khách'].apply(normalize_team_name)\n",
    "\n"
   ]
  },
  {
   "cell_type": "markdown",
   "metadata": {},
   "source": [
    "### Huấn luyện mô hình\n"
   ]
  },
  {
   "cell_type": "code",
   "execution_count": 43,
   "metadata": {},
   "outputs": [],
   "source": [
    "\n",
    "# Đặc trưng\n",
    "matches_df['Phong Độ Gần Đây Đội Nhà'] = matches_df.groupby('Đội Chủ Nhà')['Kết quả'].transform(lambda x: x.rolling(3, min_periods=1).mean())\n",
    "matches_df['Phong Độ Gần Đây Đội Khách'] = matches_df.groupby('Đội Khách')['Kết quả'].transform(lambda x: x.rolling(3, min_periods=1).mean())\n",
    "\n",
    "so_tran_thang_doi_nha = matches_df[matches_df['Kết quả'] == 0].groupby('Đội Chủ Nhà').size()\n",
    "tong_so_tran_doi_nha = matches_df.groupby('Đội Chủ Nhà').size()\n",
    "ti_le_thang_doi_nha = (so_tran_thang_doi_nha / tong_so_tran_doi_nha).fillna(0)\n",
    "matches_df['Tỉ Lệ Thắng Đội Nhà'] = matches_df['Đội Chủ Nhà'].map(ti_le_thang_doi_nha)\n",
    "\n",
    "so_tran_thang_doi_khach = matches_df[matches_df['Kết quả'] == 1].groupby('Đội Khách').size()  \n",
    "tong_so_tran_doi_khach = matches_df.groupby('Đội Khách').size()  \n",
    "ti_le_thang_doi_khach = (so_tran_thang_doi_khach / tong_so_tran_doi_khach).fillna(0)\n",
    "matches_df['Tỉ Lệ Thắng Đội Khách'] = matches_df['Đội Khách'].map(ti_le_thang_doi_khach)\n",
    "\n",
    "so_tran_hoa_doi_nha = matches_df[matches_df['Kết quả'] == 2].groupby('Đội Chủ Nhà').size()  # Số trận hòa của đội chủ nhà\n",
    "ti_le_hoa_doi_nha = (so_tran_hoa_doi_nha / tong_so_tran_doi_nha).fillna(0)\n",
    "matches_df['Tỉ Lệ Hòa Đội Nhà'] = matches_df['Đội Chủ Nhà'].map(ti_le_hoa_doi_nha)\n",
    "\n",
    "so_tran_hoa_doi_khach = matches_df[matches_df['Kết quả'] == 2].groupby('Đội Khách').size()  # Số trận hòa của đội khách\n",
    "ti_le_hoa_doi_khach = (so_tran_hoa_doi_khach / tong_so_tran_doi_khach).fillna(0)\n",
    "matches_df['Tỉ Lệ Hòa Đội Khách'] = matches_df['Đội Khách'].map(ti_le_hoa_doi_khach)\n",
    "\n",
    "matches_df['Số Bàn Trung Bình Đội Nhà'] = matches_df.groupby('Đội Chủ Nhà')['Bàn Thắng Đội Nhà'].transform('mean')\n",
    "\n",
    "matches_df['Số Bàn Trung Bình Đội Khách'] = matches_df.groupby('Đội Khách')['Bàn Thắng Đội Khách'].transform('mean')\n",
    "\n",
    "matches_df['Hiệu Số Bàn Thắng Đội Nhà'] = matches_df.groupby('Đội Chủ Nhà')['Bàn Thắng Đội Nhà'].transform('mean') - matches_df.groupby('Đội Chủ Nhà')['Bàn Thắng Đội Khách'].transform('mean')\n",
    "\n",
    "matches_df['Hiệu Số Bàn Thắng Đội Khách'] = matches_df.groupby('Đội Khách')['Bàn Thắng Đội Khách'].transform('mean') - matches_df.groupby('Đội Khách')['Bàn Thắng Đội Nhà'].transform('mean')\n",
    "\n",
    "     # Thêm các đặc trưng thống kê và đối đầu\n",
    "matches_df['Sạch Lưới Đội Nhà'] = matches_df.groupby('Đội Chủ Nhà')['Bàn Thắng Đội Khách'].transform(lambda x: (x == 0).sum())\n",
    "\n",
    "matches_df['Sạch Lưới Đội Khách'] = matches_df.groupby('Đội Khách')['Bàn Thắng Đội Nhà'].transform(lambda x: (x == 0).sum())\n",
    "\n",
    "matches_df['Thành Tích Đối Đầu Đội Nhà'] = matches_df.groupby(['Đội Chủ Nhà', 'Đội Khách'])['Kết quả'].transform(lambda x: (x == 0).sum())\n",
    "\n",
    "matches_df['Thành Tích Đối Đầu Đội Khách'] = matches_df.groupby(['Đội Khách', 'Đội Chủ Nhà'])['Kết quả'].transform(lambda x: (x == 1).sum())\n",
    "\n",
    "     # Tạo các đặc trưng mới từ sự chênh lệch bàn thắng, chuỗi thắng/thua gần đây\n",
    "matches_df['Chênh Lệch Bàn Thắng Nhà-Khách'] = matches_df['Hiệu Số Bàn Thắng Đội Nhà'] - matches_df['Hiệu Số Bàn Thắng Đội Khách']\n",
    "\n",
    "matches_df['Chênh Lệch Phong Độ Gần Đây'] = matches_df['Phong Độ Gần Đây Đội Nhà'] - matches_df['Phong Độ Gần Đây Đội Khách']\n",
    "\n",
    "matches_df['Chuỗi Thắng Đội Nhà'] = matches_df.groupby('Đội Chủ Nhà')['Kết quả'].transform(lambda x: x.eq(0).rolling(5, min_periods=1).sum())\n",
    "\n",
    "matches_df['Chuỗi Thắng Đội Khách'] = matches_df.groupby('Đội Khách')['Kết quả'].transform(lambda x: x.eq(1).rolling(5, min_periods=1).sum())\n"
   ]
  },
  {
   "cell_type": "code",
   "execution_count": 44,
   "metadata": {},
   "outputs": [
    {
     "name": "stdout",
     "output_type": "stream",
     "text": [
      "Kết quả\n",
      "0    1654\n",
      "1    1166\n",
      "2     852\n",
      "Name: count, dtype: int64\n"
     ]
    }
   ],
   "source": [
    "print(matches_df['Kết quả'].value_counts())"
   ]
  },
  {
   "cell_type": "code",
   "execution_count": 45,
   "metadata": {},
   "outputs": [
    {
     "name": "stdout",
     "output_type": "stream",
     "text": [
      "Accuracy on test set: 0.84\n",
      "Classification Report:\n",
      "               precision    recall  f1-score   support\n",
      "\n",
      "           0       0.84      0.84      0.84       357\n",
      "           1       0.85      0.86      0.85       388\n",
      "           2       0.80      0.79      0.80       210\n",
      "\n",
      "    accuracy                           0.84       955\n",
      "   macro avg       0.83      0.83      0.83       955\n",
      "weighted avg       0.84      0.84      0.84       955\n",
      "\n"
     ]
    }
   ],
   "source": [
    "# Chuẩn bị dữ liệu\n",
    "le = LabelEncoder()\n",
    "matches_df['Đội Chủ Nhà'] = le.fit_transform(matches_df['Đội Chủ Nhà'])\n",
    "matches_df['Đội Khách'] = le.transform(matches_df['Đội Khách'])\n",
    "\n",
    "X = matches_df[['Đội Chủ Nhà', 'Đội Khách', 'Phong Độ Gần Đây Đội Nhà', 'Phong Độ Gần Đây Đội Khách', \n",
    "                'Tỉ Lệ Thắng Đội Nhà', 'Tỉ Lệ Thắng Đội Khách', 'Tỉ Lệ Hòa Đội Nhà', 'Tỉ Lệ Hòa Đội Khách', \n",
    "                'Số Bàn Trung Bình Đội Nhà', 'Số Bàn Trung Bình Đội Khách', 'Hiệu Số Bàn Thắng Đội Nhà', \n",
    "                'Hiệu Số Bàn Thắng Đội Khách', 'Sạch Lưới Đội Nhà', 'Sạch Lưới Đội Khách', \n",
    "                'Thành Tích Đối Đầu Đội Nhà', 'Thành Tích Đối Đầu Đội Khách', 'Chênh Lệch Bàn Thắng Nhà-Khách', \n",
    "                'Chênh Lệch Phong Độ Gần Đây', 'Chuỗi Thắng Đội Nhà', 'Chuỗi Thắng Đội Khách']]\n",
    "\n",
    "# Nhân trọng số cho Tỉ Lệ Thắng để tăng cường ảnh hưởng\n",
    "X.loc[:, 'Tỉ Lệ Thắng Đội Nhà'] *= 10\n",
    "X.loc[:, 'Tỉ Lệ Thắng Đội Khách'] *= 10\n",
    "\n",
    "y = matches_df['Kết quả']\n",
    "\n",
    "# Chuẩn hóa dữ liệu\n",
    "scaler = MinMaxScaler()\n",
    "X_scaled = scaler.fit_transform(X)\n",
    "\n",
    "# Áp dụng SMOTE để cân bằng lớp\n",
    "smote = SMOTE(sampling_strategy={0: int(len(y) * 0.5), \n",
    "                                1: int(len(y) * 0.5), \n",
    "                                2: int(len(y) * 0.3)}, random_state=42)\n",
    "X_balanced, y_balanced = smote.fit_resample(X_scaled, y)\n",
    "\n",
    "# Chia dữ liệu\n",
    "X_train, X_test, y_train, y_test = train_test_split(X_balanced, y_balanced, test_size=0.2, random_state=42)\n",
    "\n",
    "\n",
    "# Mô hình RandomForest với trọng số lớp\n",
    "rf_model = RandomForestClassifier(random_state=42, class_weight={0: 2, 1: 1.5, 2: 1}, \n",
    "                                  bootstrap=False, max_depth=15, min_samples_leaf=2, \n",
    "                                  min_samples_split=2, n_estimators=500)\n",
    "\n",
    "# Mô hình XGBoost\n",
    "xgb_model = XGBClassifier(objective='multi:softprob', eval_metric='mlogloss', \n",
    "                          random_state=42)\n",
    "\n",
    "# Sử dụng Stacking để kết hợp mô hình RandomForest và XGBoost\n",
    "estimators = [('rf', rf_model), ('xgb', xgb_model)]\n",
    "stacking_model = StackingClassifier(estimators=estimators, final_estimator=LogisticRegression())\n",
    "\n",
    "# Huấn luyện mô hình\n",
    "stacking_model.fit(X_train, y_train)\n",
    "\n",
    "# Dự đoán trên tập kiểm tra\n",
    "y_pred = stacking_model.predict(X_test)\n",
    "\n",
    "# Đánh giá kết quả\n",
    "print(\"Accuracy on test set:\", np.round(accuracy_score(y_test, y_pred), 2))\n",
    "print(\"Classification Report:\\n\", classification_report(y_test, y_pred))\n"
   ]
  },
  {
   "cell_type": "code",
   "execution_count": 46,
   "metadata": {},
   "outputs": [
    {
     "name": "stdout",
     "output_type": "stream",
     "text": [
      "Độ chính xác của mô hình trên tập Test: 0.84\n"
     ]
    }
   ],
   "source": [
    "print(\"Độ chính xác của mô hình trên tập Test:\", np.round(accuracy_score(y_test, y_pred), 2))"
   ]
  },
  {
   "cell_type": "code",
   "execution_count": 47,
   "metadata": {},
   "outputs": [
    {
     "name": "stdout",
     "output_type": "stream",
     "text": [
      "AUC-ROC (đa nhãn): 0.9482333590858171\n"
     ]
    }
   ],
   "source": [
    "from sklearn.metrics import roc_auc_score\n",
    "\n",
    "# Tính AUC-ROC cho các lớp đa nhãn\n",
    "auc_score = roc_auc_score(y_test, stacking_model.predict_proba(X_test), multi_class='ovr')\n",
    "print(\"AUC-ROC (đa nhãn):\", auc_score)\n"
   ]
  },
  {
   "cell_type": "markdown",
   "metadata": {},
   "source": [
    "### Phân tích kết quả dự đoán bằng Ma Trận Nhầm Lẫn (confusion matrix)"
   ]
  },
  {
   "cell_type": "code",
   "execution_count": 48,
   "metadata": {},
   "outputs": [
    {
     "data": {
      "image/png": "[encoded data removed]",
      "text/plain": [
       "<Figure size 640x480 with 2 Axes>"
      ]
     },
     "metadata": {},
     "output_type": "display_data"
    }
   ],
   "source": [
    "# Hiển thị confusion matrix để phân tích chi tiết kết quả dự đoán\n",
    "cm = confusion_matrix(y_test, y_pred)\n",
    "disp = ConfusionMatrixDisplay(confusion_matrix=cm, display_labels=['Chủ nhà thắng', 'Đội khách thắng', 'Hòa'])\n",
    "disp.plot(cmap=plt.cm.Blues)\n",
    "plt.title(\"Confusion Matrix\")\n",
    "plt.show()"
   ]
  },
  {
   "cell_type": "markdown",
   "metadata": {},
   "source": [
    "### Đánh giá mô hình bằng Cross-validation"
   ]
  },
  {
   "cell_type": "code",
   "execution_count": 49,
   "metadata": {},
   "outputs": [
    {
     "name": "stdout",
     "output_type": "stream",
     "text": [
      "Đánh giá trung bình của mô hình trên 5 phần khác nhau của dữ liệu : 0.7992919238540103\n"
     ]
    }
   ],
   "source": [
    "# Cross-validation giúp đánh giá độ chính xác trên nhiều phần khác nhau của dữ liệu\n",
    "cv_scores_stacking_model = cross_val_score(stacking_model, X_scaled, y, cv=5)\n",
    "\n",
    "print(\"Đánh giá trung bình của mô hình trên 5 phần khác nhau của dữ liệu :\",\n",
    "       np.mean(cv_scores_stacking_model))"
   ]
  },
  {
   "cell_type": "code",
   "execution_count": null,
   "metadata": {},
   "outputs": [],
   "source": []
  }
 ],
 "metadata": {
  "kernelspec": {
   "display_name": "Python 3",
   "language": "python",
   "name": "python3"
  },
  "language_info": {
   "codemirror_mode": {
    "name": "ipython",
    "version": 3
   },
   "file_extension": ".py",
   "mimetype": "text/x-python",
   "name": "python",
   "nbconvert_exporter": "python",
   "pygments_lexer": "ipython3",
   "version": "3.11.3"
  }
 },
 "nbformat": 4,
 "nbformat_minor": 2
}
